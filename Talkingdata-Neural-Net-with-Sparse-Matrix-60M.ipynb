{
 "cells": [
  {
   "cell_type": "code",
   "execution_count": 1,
   "metadata": {
    "_cell_guid": "135911f4-9a8c-47a5-8e87-a57761210984",
    "_uuid": "4815891a017babfa90afe9fc367dd6170bdc8e83"
   },
   "outputs": [
    {
     "name": "stderr",
     "output_type": "stream",
     "text": [
      "/home/ubuntu/anaconda3/envs/tensorflow_p36/lib/python3.6/site-packages/matplotlib/__init__.py:1067: UserWarning: Duplicate key in file \"/home/ubuntu/.config/matplotlib/matplotlibrc\", line #2\n",
      "  (fname, cnt))\n",
      "/home/ubuntu/anaconda3/envs/tensorflow_p36/lib/python3.6/site-packages/matplotlib/__init__.py:1067: UserWarning: Duplicate key in file \"/home/ubuntu/.config/matplotlib/matplotlibrc\", line #3\n",
      "  (fname, cnt))\n",
      "/home/ubuntu/anaconda3/envs/tensorflow_p36/lib/python3.6/site-packages/matplotlib/font_manager.py:278: UserWarning: Matplotlib is building the font cache using fc-list. This may take a moment.\n",
      "  'Matplotlib is building the font cache using fc-list. '\n",
      "/home/ubuntu/anaconda3/envs/tensorflow_p36/lib/python3.6/site-packages/h5py/__init__.py:36: FutureWarning: Conversion of the second argument of issubdtype from `float` to `np.floating` is deprecated. In future, it will be treated as `np.float64 == np.dtype(float).type`.\n",
      "  from ._conv import register_converters as _register_converters\n"
     ]
    },
    {
     "data": {
      "text/plain": [
       "'1.7.0'"
      ]
     },
     "execution_count": 1,
     "metadata": {},
     "output_type": "execute_result"
    }
   ],
   "source": [
    "import pandas as pd\n",
    "import os\n",
    "import numpy as np\n",
    "import matplotlib.pyplot as plt\n",
    "import gc\n",
    "\n",
    "%matplotlib inline \n",
    "\n",
    "from sklearn.model_selection import train_test_split\n",
    "\n",
    "\n",
    "import tensorflow as tf\n",
    "tf.__version__\n"
   ]
  },
  {
   "cell_type": "code",
   "execution_count": 2,
   "metadata": {
    "_cell_guid": "14f5218f-e7f0-48bd-8289-2c0df0940a89",
    "_uuid": "957f97643309d88ee801cb28935c3aab14bcb507"
   },
   "outputs": [],
   "source": [
    "np.random.seed(45)"
   ]
  },
  {
   "cell_type": "code",
   "execution_count": 3,
   "metadata": {
    "_cell_guid": "dd6bd6fd-aec9-4acc-a2a9-9a96cbf112c9",
    "_uuid": "b6bd4397e4d2024d91b4dea696ac47708c02a73c"
   },
   "outputs": [],
   "source": [
    "#DATA_DIR = './input/'\n",
    "#DATA_DIR = '../input/'\n",
    "DATA_DIR = './'"
   ]
  },
  {
   "cell_type": "code",
   "execution_count": 4,
   "metadata": {
    "_cell_guid": "03de9149-ac2c-49e9-858d-5ec7cdeb3f7b",
    "_uuid": "a05254ad61997ccb510792c76d1a67d8929384c0"
   },
   "outputs": [
    {
     "name": "stdout",
     "output_type": "stream",
     "text": [
      "['train_sample.csv', 'test.csv', 'mnt', '.ipynb_checkpoints', 'Kaggle+-+Neural+Net+with+Sparse+Matrix.ipynb', 'traincsv.zip', 'train.csv']\n"
     ]
    }
   ],
   "source": [
    "print(os.listdir(DATA_DIR))"
   ]
  },
  {
   "cell_type": "code",
   "execution_count": 5,
   "metadata": {
    "_cell_guid": "936a097c-0f32-48d9-9637-02f53ceb8f63",
    "_uuid": "bb92dfc3ad4f3cbcab3c731d1f8e5da2a12c38ac"
   },
   "outputs": [
    {
     "name": "stdout",
     "output_type": "stream",
     "text": [
      "total 9476228\r\n",
      "drwxrwxr-x  4 ubuntu ubuntu       4096 May 10 16:49 \u001b[0m\u001b[01;34m.\u001b[0m/\r\n",
      "drwxr-xr-x 16 ubuntu ubuntu       4096 May 10 16:46 \u001b[01;34m..\u001b[0m/\r\n",
      "drwxrwxr-x  2 ubuntu ubuntu       4096 May 10 16:48 \u001b[01;34m.ipynb_checkpoints\u001b[0m/\r\n",
      "-rw-rw-r--  1 ubuntu ubuntu      29110 May 10 16:48 Kaggle+-+Neural+Net+with+Sparse+Matrix.ipynb\r\n",
      "drwxrwxr-x  3 ubuntu ubuntu       4096 May 10 16:46 \u001b[01;34mmnt\u001b[0m/\r\n",
      "-rw-rw-r--  1 ubuntu ubuntu  863271911 May  3 00:11 test.csv\r\n",
      "-rw-rw-r--  1 ubuntu ubuntu 7537649302 Feb 16 04:02 train.csv\r\n",
      "-rw-rw-r--  1 ubuntu ubuntu 1298591310 May 10 16:44 \u001b[01;31mtraincsv.zip\u001b[0m\r\n",
      "-rw-rw-r--  1 ubuntu ubuntu    4076438 May  3 00:11 train_sample.csv\r\n"
     ]
    }
   ],
   "source": [
    "ls -al "
   ]
  },
  {
   "cell_type": "code",
   "execution_count": 6,
   "metadata": {
    "_cell_guid": "651d2f1b-1be2-49fa-b50e-6292c3ec339c",
    "_uuid": "b90506fc895081ac4498c7d34ae2dedc06d3f29b"
   },
   "outputs": [],
   "source": [
    "SAMPLE_FILE = 'train_sample.csv'\n",
    "TRAIN_FILE = 'train.csv'\n",
    "TEST_FILE = 'test.csv'"
   ]
  },
  {
   "cell_type": "code",
   "execution_count": 7,
   "metadata": {
    "_cell_guid": "60ebb636-2998-42a3-a0ce-2b9ba5bf57f9",
    "_uuid": "8e1a95b5627e6f27c67e923a2587a123675e1589"
   },
   "outputs": [],
   "source": [
    "dtypes = {\n",
    "        'ip'            : 'uint32',\n",
    "        'app'           : 'uint16',\n",
    "        'device'        : 'uint16',\n",
    "        'os'            : 'uint16',\n",
    "        'channel'       : 'uint16',\n",
    "        'is_attributed' : 'uint8',\n",
    "        }"
   ]
  },
  {
   "cell_type": "markdown",
   "metadata": {
    "_cell_guid": "f4d8cb06-2dc2-4059-a3b8-ca294975194d",
    "_uuid": "df9deebddd8531b2594f16faef585acf49e14863"
   },
   "source": [
    "# Loading Data"
   ]
  },
  {
   "cell_type": "code",
   "execution_count": 10,
   "metadata": {
    "_cell_guid": "9af98b60-cfc0-4c51-9316-1a89b173e8fe",
    "_uuid": "ce640217064dd29b9c302d7952cc494473d11fcb"
   },
   "outputs": [
    {
     "name": "stdout",
     "output_type": "stream",
     "text": [
      "CPU times: user 59.5 s, sys: 1.59 s, total: 1min 1s\n",
      "Wall time: 1min 1s\n"
     ]
    }
   ],
   "source": [
    "%%time\n",
    "\n",
    "#raw data mainly for the training model\n",
    "'''\n",
    "raw_data = pd.read_csv(DATA_DIR + TRAIN_FILE, dtype=dtypes,  \\\n",
    "                skiprows= range(1,9308569),nrows=60000000, \\                \n",
    "                usecols=['ip', 'app', 'device', 'os', 'channel', 'click_time', 'is_attributed'],\\\n",
    "                parse_dates=['click_time'])\n",
    "'''\n",
    "\n",
    "#training on 60M rows, one day of data.\n",
    "raw_data = pd.read_csv(DATA_DIR + TRAIN_FILE, dtype=dtypes,  \n",
    "                skiprows= range(1,9308569),nrows=60000000,                \n",
    "                usecols=['ip', 'app', 'device', 'os', 'channel', 'click_time', 'is_attributed'],\\\n",
    "                parse_dates=['click_time'])\n",
    "\n",
    "\n",
    "\n",
    "\n"
   ]
  },
  {
   "cell_type": "code",
   "execution_count": 11,
   "metadata": {
    "_cell_guid": "19f400e8-3e5b-4f77-ba1e-6f7914568ae6",
    "_uuid": "de0b4a659e9c1ca7e6800c86a38b2783ccc9d6e5"
   },
   "outputs": [
    {
     "data": {
      "text/html": [
       "<div>\n",
       "<style scoped>\n",
       "    .dataframe tbody tr th:only-of-type {\n",
       "        vertical-align: middle;\n",
       "    }\n",
       "\n",
       "    .dataframe tbody tr th {\n",
       "        vertical-align: top;\n",
       "    }\n",
       "\n",
       "    .dataframe thead th {\n",
       "        text-align: right;\n",
       "    }\n",
       "</style>\n",
       "<table border=\"1\" class=\"dataframe\">\n",
       "  <thead>\n",
       "    <tr style=\"text-align: right;\">\n",
       "      <th></th>\n",
       "      <th>ip</th>\n",
       "      <th>app</th>\n",
       "      <th>device</th>\n",
       "      <th>os</th>\n",
       "      <th>channel</th>\n",
       "      <th>click_time</th>\n",
       "      <th>is_attributed</th>\n",
       "    </tr>\n",
       "  </thead>\n",
       "  <tbody>\n",
       "    <tr>\n",
       "      <th>0</th>\n",
       "      <td>70712</td>\n",
       "      <td>2</td>\n",
       "      <td>1</td>\n",
       "      <td>32</td>\n",
       "      <td>237</td>\n",
       "      <td>2017-11-07</td>\n",
       "      <td>0</td>\n",
       "    </tr>\n",
       "    <tr>\n",
       "      <th>1</th>\n",
       "      <td>45892</td>\n",
       "      <td>3</td>\n",
       "      <td>1</td>\n",
       "      <td>25</td>\n",
       "      <td>424</td>\n",
       "      <td>2017-11-07</td>\n",
       "      <td>0</td>\n",
       "    </tr>\n",
       "    <tr>\n",
       "      <th>2</th>\n",
       "      <td>37774</td>\n",
       "      <td>8</td>\n",
       "      <td>2</td>\n",
       "      <td>13</td>\n",
       "      <td>145</td>\n",
       "      <td>2017-11-07</td>\n",
       "      <td>0</td>\n",
       "    </tr>\n",
       "    <tr>\n",
       "      <th>3</th>\n",
       "      <td>41179</td>\n",
       "      <td>2</td>\n",
       "      <td>1</td>\n",
       "      <td>13</td>\n",
       "      <td>122</td>\n",
       "      <td>2017-11-07</td>\n",
       "      <td>0</td>\n",
       "    </tr>\n",
       "    <tr>\n",
       "      <th>4</th>\n",
       "      <td>83111</td>\n",
       "      <td>15</td>\n",
       "      <td>1</td>\n",
       "      <td>8</td>\n",
       "      <td>245</td>\n",
       "      <td>2017-11-07</td>\n",
       "      <td>0</td>\n",
       "    </tr>\n",
       "  </tbody>\n",
       "</table>\n",
       "</div>"
      ],
      "text/plain": [
       "      ip  app  device  os  channel click_time  is_attributed\n",
       "0  70712    2       1  32      237 2017-11-07              0\n",
       "1  45892    3       1  25      424 2017-11-07              0\n",
       "2  37774    8       2  13      145 2017-11-07              0\n",
       "3  41179    2       1  13      122 2017-11-07              0\n",
       "4  83111   15       1   8      245 2017-11-07              0"
      ]
     },
     "execution_count": 11,
     "metadata": {},
     "output_type": "execute_result"
    }
   ],
   "source": [
    "raw_data.head()"
   ]
  },
  {
   "cell_type": "code",
   "execution_count": 12,
   "metadata": {
    "_cell_guid": "75f33d0c-75fd-4172-9d7c-cb53e6d14e0e",
    "_uuid": "0ef29b648e179c8c4d7976fb740403d3da5726ac"
   },
   "outputs": [
    {
     "data": {
      "text/plain": [
       "(60000000, 7)"
      ]
     },
     "execution_count": 12,
     "metadata": {},
     "output_type": "execute_result"
    }
   ],
   "source": [
    "raw_data.shape"
   ]
  },
  {
   "cell_type": "code",
   "execution_count": 13,
   "metadata": {
    "_cell_guid": "643f5149-22b5-4685-a0ee-6d243b947cc2",
    "_uuid": "113ee07163b605bc9c010d8d21e450f974d1202b"
   },
   "outputs": [
    {
     "name": "stdout",
     "output_type": "stream",
     "text": [
      "<class 'pandas.core.frame.DataFrame'>\n",
      "RangeIndex: 60000000 entries, 0 to 59999999\n",
      "Data columns (total 7 columns):\n",
      "ip               uint32\n",
      "app              uint16\n",
      "device           uint16\n",
      "os               uint16\n",
      "channel          uint16\n",
      "click_time       datetime64[ns]\n",
      "is_attributed    uint8\n",
      "dtypes: datetime64[ns](1), uint16(4), uint32(1), uint8(1)\n",
      "memory usage: 1.2 GB\n"
     ]
    }
   ],
   "source": [
    "raw_data.info()"
   ]
  },
  {
   "cell_type": "code",
   "execution_count": 32,
   "metadata": {
    "_cell_guid": "9ab2571a-d0cb-4eb5-8d07-3bbb57100c5b",
    "_uuid": "9240a61e0189a3d77b4e335aec8e39cee294fa9f",
    "collapsed": true
   },
   "outputs": [],
   "source": [
    "#del raw_data\n",
    "#gc.collect()"
   ]
  },
  {
   "cell_type": "code",
   "execution_count": 14,
   "metadata": {
    "_cell_guid": "2fc7f49b-3052-45e4-b7f2-f10f292751ae",
    "_uuid": "98054e18ba3596df249974f61152957e6b5b9b8c"
   },
   "outputs": [
    {
     "data": {
      "text/plain": [
       "RangeIndex(start=0, stop=60000000, step=1)"
      ]
     },
     "execution_count": 14,
     "metadata": {},
     "output_type": "execute_result"
    }
   ],
   "source": [
    "raw_data.index"
   ]
  },
  {
   "cell_type": "code",
   "execution_count": 15,
   "metadata": {
    "_cell_guid": "a295aa78-7891-4408-bb60-6cbf5602698a",
    "_uuid": "5ae183263213014174b411734c88226054370e6e"
   },
   "outputs": [
    {
     "data": {
      "text/plain": [
       "0    0.997454\n",
       "1    0.002546\n",
       "Name: is_attributed, dtype: float64"
      ]
     },
     "execution_count": 15,
     "metadata": {},
     "output_type": "execute_result"
    }
   ],
   "source": [
    "#Check out the target column\n",
    "cnt = raw_data['is_attributed'].value_counts()\n",
    "cnt_percent = cnt/raw_data.shape[0]\n",
    "cnt_percent"
   ]
  },
  {
   "cell_type": "code",
   "execution_count": 16,
   "metadata": {
    "_cell_guid": "e907d582-f202-41be-be1c-7f3fadaadc63",
    "_uuid": "fda56929b3c4cfe190cc29a0a63e85f039eceded"
   },
   "outputs": [
    {
     "name": "stdout",
     "output_type": "stream",
     "text": [
      "CPU times: user 17.7 s, sys: 292 ms, total: 18 s\n",
      "Wall time: 18 s\n"
     ]
    }
   ],
   "source": [
    "%%time\n",
    "test_data = pd.read_csv(DATA_DIR + TEST_FILE, dtype=dtypes, \\\n",
    "                parse_dates=['click_time'])\n",
    "        \n"
   ]
  },
  {
   "cell_type": "code",
   "execution_count": 17,
   "metadata": {
    "_cell_guid": "c88da0de-4fe1-476e-bd7c-c1fce2dc3f63",
    "_uuid": "b8d1055d188141a7e6010c91b24b2dd5d32cacc5"
   },
   "outputs": [
    {
     "data": {
      "text/plain": [
       "(18790469, 7)"
      ]
     },
     "execution_count": 17,
     "metadata": {},
     "output_type": "execute_result"
    }
   ],
   "source": [
    "test_data.shape"
   ]
  },
  {
   "cell_type": "code",
   "execution_count": 18,
   "metadata": {
    "_cell_guid": "a8950a7f-2b85-4f68-8d61-d2684cea4672",
    "_uuid": "11d1ead5d9a92bef98bc4f1d68b20f21b14e0753"
   },
   "outputs": [
    {
     "data": {
      "text/html": [
       "<div>\n",
       "<style scoped>\n",
       "    .dataframe tbody tr th:only-of-type {\n",
       "        vertical-align: middle;\n",
       "    }\n",
       "\n",
       "    .dataframe tbody tr th {\n",
       "        vertical-align: top;\n",
       "    }\n",
       "\n",
       "    .dataframe thead th {\n",
       "        text-align: right;\n",
       "    }\n",
       "</style>\n",
       "<table border=\"1\" class=\"dataframe\">\n",
       "  <thead>\n",
       "    <tr style=\"text-align: right;\">\n",
       "      <th></th>\n",
       "      <th>click_id</th>\n",
       "      <th>ip</th>\n",
       "      <th>app</th>\n",
       "      <th>device</th>\n",
       "      <th>os</th>\n",
       "      <th>channel</th>\n",
       "      <th>click_time</th>\n",
       "    </tr>\n",
       "  </thead>\n",
       "  <tbody>\n",
       "    <tr>\n",
       "      <th>0</th>\n",
       "      <td>0</td>\n",
       "      <td>5744</td>\n",
       "      <td>9</td>\n",
       "      <td>1</td>\n",
       "      <td>3</td>\n",
       "      <td>107</td>\n",
       "      <td>2017-11-10 04:00:00</td>\n",
       "    </tr>\n",
       "    <tr>\n",
       "      <th>1</th>\n",
       "      <td>1</td>\n",
       "      <td>119901</td>\n",
       "      <td>9</td>\n",
       "      <td>1</td>\n",
       "      <td>3</td>\n",
       "      <td>466</td>\n",
       "      <td>2017-11-10 04:00:00</td>\n",
       "    </tr>\n",
       "    <tr>\n",
       "      <th>2</th>\n",
       "      <td>2</td>\n",
       "      <td>72287</td>\n",
       "      <td>21</td>\n",
       "      <td>1</td>\n",
       "      <td>19</td>\n",
       "      <td>128</td>\n",
       "      <td>2017-11-10 04:00:00</td>\n",
       "    </tr>\n",
       "    <tr>\n",
       "      <th>3</th>\n",
       "      <td>3</td>\n",
       "      <td>78477</td>\n",
       "      <td>15</td>\n",
       "      <td>1</td>\n",
       "      <td>13</td>\n",
       "      <td>111</td>\n",
       "      <td>2017-11-10 04:00:00</td>\n",
       "    </tr>\n",
       "    <tr>\n",
       "      <th>4</th>\n",
       "      <td>4</td>\n",
       "      <td>123080</td>\n",
       "      <td>12</td>\n",
       "      <td>1</td>\n",
       "      <td>13</td>\n",
       "      <td>328</td>\n",
       "      <td>2017-11-10 04:00:00</td>\n",
       "    </tr>\n",
       "  </tbody>\n",
       "</table>\n",
       "</div>"
      ],
      "text/plain": [
       "   click_id      ip  app  device  os  channel          click_time\n",
       "0         0    5744    9       1   3      107 2017-11-10 04:00:00\n",
       "1         1  119901    9       1   3      466 2017-11-10 04:00:00\n",
       "2         2   72287   21       1  19      128 2017-11-10 04:00:00\n",
       "3         3   78477   15       1  13      111 2017-11-10 04:00:00\n",
       "4         4  123080   12       1  13      328 2017-11-10 04:00:00"
      ]
     },
     "execution_count": 18,
     "metadata": {},
     "output_type": "execute_result"
    }
   ],
   "source": [
    "test_data.head()"
   ]
  },
  {
   "cell_type": "code",
   "execution_count": 19,
   "metadata": {
    "_cell_guid": "f6e78dd6-30e2-4934-9794-51f54a0d2340",
    "_uuid": "46c568eacb335e10ec387d53fea45c801f664499"
   },
   "outputs": [],
   "source": [
    "#first attributed value is 0, we use this value as dummy so\n",
    "#that we can concatenate dataframe with same data type.  \n",
    "#The actual values are not used in training data.\n",
    "test_data['is_attributed']=raw_data['is_attributed'][0]  "
   ]
  },
  {
   "cell_type": "code",
   "execution_count": 20,
   "metadata": {
    "_cell_guid": "efe1e280-fa4e-4758-8057-ff15049b6c1b",
    "_uuid": "591c3f1ba58fc3016d9fe003133c6d0a341621e5"
   },
   "outputs": [
    {
     "data": {
      "text/html": [
       "<div>\n",
       "<style scoped>\n",
       "    .dataframe tbody tr th:only-of-type {\n",
       "        vertical-align: middle;\n",
       "    }\n",
       "\n",
       "    .dataframe tbody tr th {\n",
       "        vertical-align: top;\n",
       "    }\n",
       "\n",
       "    .dataframe thead th {\n",
       "        text-align: right;\n",
       "    }\n",
       "</style>\n",
       "<table border=\"1\" class=\"dataframe\">\n",
       "  <thead>\n",
       "    <tr style=\"text-align: right;\">\n",
       "      <th></th>\n",
       "      <th>click_id</th>\n",
       "      <th>ip</th>\n",
       "      <th>app</th>\n",
       "      <th>device</th>\n",
       "      <th>os</th>\n",
       "      <th>channel</th>\n",
       "      <th>click_time</th>\n",
       "      <th>is_attributed</th>\n",
       "    </tr>\n",
       "  </thead>\n",
       "  <tbody>\n",
       "    <tr>\n",
       "      <th>0</th>\n",
       "      <td>0</td>\n",
       "      <td>5744</td>\n",
       "      <td>9</td>\n",
       "      <td>1</td>\n",
       "      <td>3</td>\n",
       "      <td>107</td>\n",
       "      <td>2017-11-10 04:00:00</td>\n",
       "      <td>0</td>\n",
       "    </tr>\n",
       "    <tr>\n",
       "      <th>1</th>\n",
       "      <td>1</td>\n",
       "      <td>119901</td>\n",
       "      <td>9</td>\n",
       "      <td>1</td>\n",
       "      <td>3</td>\n",
       "      <td>466</td>\n",
       "      <td>2017-11-10 04:00:00</td>\n",
       "      <td>0</td>\n",
       "    </tr>\n",
       "    <tr>\n",
       "      <th>2</th>\n",
       "      <td>2</td>\n",
       "      <td>72287</td>\n",
       "      <td>21</td>\n",
       "      <td>1</td>\n",
       "      <td>19</td>\n",
       "      <td>128</td>\n",
       "      <td>2017-11-10 04:00:00</td>\n",
       "      <td>0</td>\n",
       "    </tr>\n",
       "    <tr>\n",
       "      <th>3</th>\n",
       "      <td>3</td>\n",
       "      <td>78477</td>\n",
       "      <td>15</td>\n",
       "      <td>1</td>\n",
       "      <td>13</td>\n",
       "      <td>111</td>\n",
       "      <td>2017-11-10 04:00:00</td>\n",
       "      <td>0</td>\n",
       "    </tr>\n",
       "    <tr>\n",
       "      <th>4</th>\n",
       "      <td>4</td>\n",
       "      <td>123080</td>\n",
       "      <td>12</td>\n",
       "      <td>1</td>\n",
       "      <td>13</td>\n",
       "      <td>328</td>\n",
       "      <td>2017-11-10 04:00:00</td>\n",
       "      <td>0</td>\n",
       "    </tr>\n",
       "  </tbody>\n",
       "</table>\n",
       "</div>"
      ],
      "text/plain": [
       "   click_id      ip  app  device  os  channel          click_time  \\\n",
       "0         0    5744    9       1   3      107 2017-11-10 04:00:00   \n",
       "1         1  119901    9       1   3      466 2017-11-10 04:00:00   \n",
       "2         2   72287   21       1  19      128 2017-11-10 04:00:00   \n",
       "3         3   78477   15       1  13      111 2017-11-10 04:00:00   \n",
       "4         4  123080   12       1  13      328 2017-11-10 04:00:00   \n",
       "\n",
       "   is_attributed  \n",
       "0              0  \n",
       "1              0  \n",
       "2              0  \n",
       "3              0  \n",
       "4              0  "
      ]
     },
     "execution_count": 20,
     "metadata": {},
     "output_type": "execute_result"
    }
   ],
   "source": [
    "test_data.head()"
   ]
  },
  {
   "cell_type": "markdown",
   "metadata": {
    "_cell_guid": "2724f27f-a9ee-472a-911d-aef77e34b90d",
    "_uuid": "391e7e1190ba91eda5be6c3c5cc175f0e38f3a13"
   },
   "source": [
    "# Preprocessing "
   ]
  },
  {
   "cell_type": "code",
   "execution_count": 40,
   "metadata": {
    "_cell_guid": "fb3bf61e-9fe1-4c60-a419-43949059b56e",
    "_uuid": "bab7a1ddf1b09fb9a5a3c934847f85aecf9cf5eb",
    "collapsed": true
   },
   "outputs": [],
   "source": [
    "#Preprocess to have feature columns ready for model, or test"
   ]
  },
  {
   "cell_type": "code",
   "execution_count": 21,
   "metadata": {
    "_cell_guid": "4127003f-6f0b-4c2b-8326-61b3806fdfdd",
    "_uuid": "ee1d5f453c2ff592dd544b41e5a2991fe88b31e0"
   },
   "outputs": [],
   "source": [
    "from sklearn.preprocessing import OneHotEncoder\n",
    "\n",
    "def convert_categories(df):\n",
    "    #Convert categories columns to panda sparse dummies columns \n",
    "    encoder = OneHotEncoder(sparse=True)\n",
    "    onehot_encoded = encoder.fit_transform(df)\n",
    "    return onehot_encoded "
   ]
  },
  {
   "cell_type": "code",
   "execution_count": 22,
   "metadata": {
    "_cell_guid": "ce65658d-fc43-4ef3-a1db-54c40793f83d",
    "_uuid": "2877e6ca1ab8799eec522ac477086d9bae8ef449"
   },
   "outputs": [],
   "source": [
    "def preprocess_data(df):\n",
    "    #Include the following columns as features:\n",
    "    #'app', 'device', 'os', 'channel', 'day', 'hour', 'minute'\n",
    "    df['day'] = df['click_time'].dt.day.astype('uint8')\n",
    "    df['hour'] = df['click_time'].dt.hour.astype('uint8')\n",
    "    df['minute'] = df['click_time'].dt.minute.astype('uint8')\n",
    "    result = convert_categories(df[['app', 'device', 'os', 'channel', 'day', 'hour', 'minute']])\n",
    "    return result"
   ]
  },
  {
   "cell_type": "code",
   "execution_count": 23,
   "metadata": {
    "_cell_guid": "0422927d-9b61-4f05-942b-8cf5ed358772",
    "_uuid": "eebd5693c30c32242093aa7aeb32002d1d59efd8"
   },
   "outputs": [
    {
     "data": {
      "text/html": [
       "<div>\n",
       "<style scoped>\n",
       "    .dataframe tbody tr th:only-of-type {\n",
       "        vertical-align: middle;\n",
       "    }\n",
       "\n",
       "    .dataframe tbody tr th {\n",
       "        vertical-align: top;\n",
       "    }\n",
       "\n",
       "    .dataframe thead th {\n",
       "        text-align: right;\n",
       "    }\n",
       "</style>\n",
       "<table border=\"1\" class=\"dataframe\">\n",
       "  <thead>\n",
       "    <tr style=\"text-align: right;\">\n",
       "      <th></th>\n",
       "      <th>ip</th>\n",
       "      <th>app</th>\n",
       "      <th>device</th>\n",
       "      <th>os</th>\n",
       "      <th>channel</th>\n",
       "      <th>click_time</th>\n",
       "      <th>is_attributed</th>\n",
       "    </tr>\n",
       "  </thead>\n",
       "  <tbody>\n",
       "    <tr>\n",
       "      <th>0</th>\n",
       "      <td>70712</td>\n",
       "      <td>2</td>\n",
       "      <td>1</td>\n",
       "      <td>32</td>\n",
       "      <td>237</td>\n",
       "      <td>2017-11-07</td>\n",
       "      <td>0</td>\n",
       "    </tr>\n",
       "    <tr>\n",
       "      <th>1</th>\n",
       "      <td>45892</td>\n",
       "      <td>3</td>\n",
       "      <td>1</td>\n",
       "      <td>25</td>\n",
       "      <td>424</td>\n",
       "      <td>2017-11-07</td>\n",
       "      <td>0</td>\n",
       "    </tr>\n",
       "    <tr>\n",
       "      <th>2</th>\n",
       "      <td>37774</td>\n",
       "      <td>8</td>\n",
       "      <td>2</td>\n",
       "      <td>13</td>\n",
       "      <td>145</td>\n",
       "      <td>2017-11-07</td>\n",
       "      <td>0</td>\n",
       "    </tr>\n",
       "    <tr>\n",
       "      <th>3</th>\n",
       "      <td>41179</td>\n",
       "      <td>2</td>\n",
       "      <td>1</td>\n",
       "      <td>13</td>\n",
       "      <td>122</td>\n",
       "      <td>2017-11-07</td>\n",
       "      <td>0</td>\n",
       "    </tr>\n",
       "    <tr>\n",
       "      <th>4</th>\n",
       "      <td>83111</td>\n",
       "      <td>15</td>\n",
       "      <td>1</td>\n",
       "      <td>8</td>\n",
       "      <td>245</td>\n",
       "      <td>2017-11-07</td>\n",
       "      <td>0</td>\n",
       "    </tr>\n",
       "  </tbody>\n",
       "</table>\n",
       "</div>"
      ],
      "text/plain": [
       "      ip  app  device  os  channel click_time  is_attributed\n",
       "0  70712    2       1  32      237 2017-11-07              0\n",
       "1  45892    3       1  25      424 2017-11-07              0\n",
       "2  37774    8       2  13      145 2017-11-07              0\n",
       "3  41179    2       1  13      122 2017-11-07              0\n",
       "4  83111   15       1   8      245 2017-11-07              0"
      ]
     },
     "execution_count": 23,
     "metadata": {},
     "output_type": "execute_result"
    }
   ],
   "source": [
    "#%%time\n",
    "\n",
    "#Combine training and test categories\n",
    "train_len = raw_data.shape[0]\n",
    "\n",
    "raw_data = raw_data.append(test_data[['ip', 'app', 'device', 'os', 'channel',\\\n",
    "                          'click_time', \\\n",
    "                          'is_attributed']])\n",
    "\n",
    "raw_data.head()\n",
    "\n"
   ]
  },
  {
   "cell_type": "code",
   "execution_count": 24,
   "metadata": {
    "_cell_guid": "debfbda3-7375-4dc8-a725-f080f96a76fe",
    "_uuid": "7c7dcf422e0317a8787caa240cb486d2489e7cbc"
   },
   "outputs": [
    {
     "data": {
      "text/plain": [
       "(78790469, 7)"
      ]
     },
     "execution_count": 24,
     "metadata": {},
     "output_type": "execute_result"
    }
   ],
   "source": [
    "raw_data.shape"
   ]
  },
  {
   "cell_type": "code",
   "execution_count": 25,
   "metadata": {
    "_cell_guid": "c3465c89-bd29-4b49-8ec0-7b332cdab9d3",
    "_uuid": "1b387355ee19f64316a40dca292fe6022e79931f"
   },
   "outputs": [
    {
     "name": "stdout",
     "output_type": "stream",
     "text": [
      "CPU times: user 29.1 s, sys: 12.7 s, total: 41.8 s\n",
      "Wall time: 41.8 s\n"
     ]
    }
   ],
   "source": [
    "%%time\n",
    "\n",
    "X=preprocess_data(raw_data)"
   ]
  },
  {
   "cell_type": "code",
   "execution_count": 26,
   "metadata": {
    "_cell_guid": "700cbc4f-923b-42e2-a460-f4ce0fee6d96",
    "_uuid": "cf0fe65ae1619d3cec1c60280457cc6b804b7973"
   },
   "outputs": [
    {
     "data": {
      "text/plain": [
       "scipy.sparse.csr.csr_matrix"
      ]
     },
     "execution_count": 26,
     "metadata": {},
     "output_type": "execute_result"
    }
   ],
   "source": [
    "type(X)"
   ]
  },
  {
   "cell_type": "code",
   "execution_count": 27,
   "metadata": {
    "_cell_guid": "0fc35a07-8240-4e5f-a4e8-d12bf0e48f7a",
    "_uuid": "9fbbe46b90ef6e3b24ad352360c2cb2c5d9a075f"
   },
   "outputs": [
    {
     "data": {
      "text/plain": [
       "(60000000, 4379)"
      ]
     },
     "execution_count": 27,
     "metadata": {},
     "output_type": "execute_result"
    }
   ],
   "source": [
    "X[:train_len].shape"
   ]
  },
  {
   "cell_type": "code",
   "execution_count": 28,
   "metadata": {
    "_cell_guid": "05dc9a7c-f31b-4f0b-ad48-d859f54ae586",
    "_uuid": "cbc0882aa882ef668a9279d56576b03d8365ca12"
   },
   "outputs": [
    {
     "data": {
      "text/plain": [
       "(60000000,)"
      ]
     },
     "execution_count": 28,
     "metadata": {},
     "output_type": "execute_result"
    }
   ],
   "source": [
    "\n",
    "Y=raw_data['is_attributed'][:(train_len)] \n",
    "Y.shape"
   ]
  },
  {
   "cell_type": "code",
   "execution_count": 29,
   "metadata": {
    "_cell_guid": "03c197ad-47f2-4f51-9d93-c8a2b3e7c642",
    "_uuid": "864344b54e52cac54ff224b4cc23ebd463dfb541"
   },
   "outputs": [
    {
     "name": "stderr",
     "output_type": "stream",
     "text": [
      "/home/ubuntu/anaconda3/envs/tensorflow_p36/lib/python3.6/site-packages/ipykernel/__main__.py:2: FutureWarning: reshape is deprecated and will raise in a subsequent release. Please use .values.reshape(...) instead\n",
      "  from ipykernel import kernelapp as app\n"
     ]
    },
    {
     "name": "stdout",
     "output_type": "stream",
     "text": [
      "(48000000, 4379)\n",
      "(12000000, 4379)\n",
      "(48000000, 1)\n",
      "(12000000, 1)\n",
      "CPU times: user 28.4 s, sys: 5.72 s, total: 34.1 s\n",
      "Wall time: 34.1 s\n"
     ]
    }
   ],
   "source": [
    "%%time\n",
    "\n",
    "Y=Y.reshape((Y.shape[0], 1))\n",
    "\n",
    "X_train, X_test, Y_train, Y_test = train_test_split(X[:train_len] , Y, test_size=0.20, random_state=14)\n",
    "\n",
    "print(X_train.shape)\n",
    "print(X_test.shape)\n",
    "print(Y_train.shape)\n",
    "print(Y_test.shape)"
   ]
  },
  {
   "cell_type": "code",
   "execution_count": 30,
   "metadata": {
    "_cell_guid": "f773cff9-867b-4860-9f72-fd04ae9a69f2",
    "_uuid": "9f9b889fe71717c44eeb9f06b9b6ed9c1f09e495"
   },
   "outputs": [
    {
     "data": {
      "text/plain": [
       "4379"
      ]
     },
     "execution_count": 30,
     "metadata": {},
     "output_type": "execute_result"
    }
   ],
   "source": [
    "X_train.shape[1]"
   ]
  },
  {
   "cell_type": "markdown",
   "metadata": {
    "_cell_guid": "0ba354cd-f498-487a-a54d-37b54b680ee3",
    "_uuid": "2b9363e8898a6e76153ec37d5c9f0b934fd608b2"
   },
   "source": [
    "# Create Model"
   ]
  },
  {
   "cell_type": "code",
   "execution_count": 31,
   "metadata": {
    "_cell_guid": "99b1c18e-b22e-4e27-a822-9c9e05e4181e",
    "_uuid": "2112e7fff8b9e11f4108fd61fb894af0de458856"
   },
   "outputs": [],
   "source": [
    "from tensorflow.python.keras.models import Sequential\n",
    "from tensorflow.python.keras.layers import Input, Dense, Dropout\n",
    "from tensorflow.python.keras.callbacks import ModelCheckpoint, EarlyStopping\n",
    "import os\n",
    "\n",
    "\n",
    "def create_model():\n",
    "\n",
    "    model = Sequential()\n",
    "\n",
    "    model.add(Dense(128,input_dim=X_train.shape[1] ,activation='relu'))    \n",
    "    model.add(Dropout(0.2))\n",
    "    model.add(Dense(64,  activation='relu'))\n",
    "    model.add(Dropout(0.2))\n",
    "    model.add(Dense(32,  activation='relu'))\n",
    "    model.add(Dropout(0.2))\n",
    "    model.add(Dense(1,   activation='sigmoid'))\n",
    "\n",
    "    model.compile(loss='binary_crossentropy',optimizer='adam')\n",
    "    return model"
   ]
  },
  {
   "cell_type": "code",
   "execution_count": 32,
   "metadata": {
    "_cell_guid": "743ffbfa-91fe-4dbf-9ea8-d5a0f62d87eb",
    "_uuid": "b5c04b3471918a3810707ba7d93f183804f7cf19"
   },
   "outputs": [
    {
     "name": "stdout",
     "output_type": "stream",
     "text": [
      "_________________________________________________________________\n",
      "Layer (type)                 Output Shape              Param #   \n",
      "=================================================================\n",
      "dense_1 (Dense)              (None, 128)               560640    \n",
      "_________________________________________________________________\n",
      "dropout_1 (Dropout)          (None, 128)               0         \n",
      "_________________________________________________________________\n",
      "dense_2 (Dense)              (None, 64)                8256      \n",
      "_________________________________________________________________\n",
      "dropout_2 (Dropout)          (None, 64)                0         \n",
      "_________________________________________________________________\n",
      "dense_3 (Dense)              (None, 32)                2080      \n",
      "_________________________________________________________________\n",
      "dropout_3 (Dropout)          (None, 32)                0         \n",
      "_________________________________________________________________\n",
      "dense_4 (Dense)              (None, 1)                 33        \n",
      "=================================================================\n",
      "Total params: 571,009\n",
      "Trainable params: 571,009\n",
      "Non-trainable params: 0\n",
      "_________________________________________________________________\n",
      "None\n"
     ]
    }
   ],
   "source": [
    "model = create_model()\n",
    "print(model.summary())"
   ]
  },
  {
   "cell_type": "code",
   "execution_count": 76,
   "metadata": {
    "_uuid": "d02efdf0b55c4e90de07105fbcae66c6896813c2"
   },
   "outputs": [],
   "source": [
    "ls"
   ]
  },
  {
   "cell_type": "code",
   "execution_count": 33,
   "metadata": {
    "_cell_guid": "cdfedf2c-e766-4cc9-bd42-f679e74e3c9f",
    "_uuid": "0e1c70c4dc924bed5c56da04efcb1df53f960567"
   },
   "outputs": [],
   "source": [
    "# Define checkpoint at every epoch, saving best weight only.\n",
    "# It will stop when the val_loss of 2 consecutive epochs did not improve.\n",
    "save_prefix = 'Sparse-60M-'\n",
    "\n",
    "checkpointdir= './checkpoint60M'\n",
    "\n",
    "#checkpointdir='.'\n",
    "if not os.path.exists(checkpointdir):\n",
    "    os.makedirs(checkpointdir)\n",
    "filepath=checkpointdir + \"/\"+save_prefix+\"weights.hdf5\"\n",
    "#filepath=save_prefix+\"weights.hdf5\"\n",
    "checkpoint = ModelCheckpoint(filepath, verbose=1, monitor='val_loss',\\\n",
    "                            save_best_only=True, save_weights_only=True, \\\n",
    "                            mode='auto', period=1 )\n",
    "\n",
    "\n",
    "earlystop = EarlyStopping(monitor='val_loss',\n",
    "                              min_delta=0,\n",
    "                              patience=2,\n",
    "                              verbose=1, mode='auto')\n",
    "callbacks_list = [earlystop, checkpoint]\n",
    "\n"
   ]
  },
  {
   "cell_type": "markdown",
   "metadata": {
    "_cell_guid": "539f13df-9ad8-4365-958e-3d079903b998",
    "_uuid": "4608bdeaa0b9a8f7550325e30b3f1bd6d71ce86a"
   },
   "source": [
    "# Train the model"
   ]
  },
  {
   "cell_type": "code",
   "execution_count": 34,
   "metadata": {
    "_cell_guid": "c0dceb08-1958-4c8e-86b5-93df9d63814d",
    "_uuid": "c3c1d0906f19bd6b1abe983055a10b1d5580cec3"
   },
   "outputs": [
    {
     "name": "stdout",
     "output_type": "stream",
     "text": [
      "Train on 38400000 samples, validate on 9600000 samples\n",
      "Epoch 1/10\n",
      "38400000/38400000 [==============================] - 1269s 33us/step - loss: 0.0092 - val_loss: 0.0075\n",
      "\n",
      "Epoch 00001: val_loss improved from inf to 0.00746, saving model to ./checkpoint60M/Sparse-60M-weights.hdf5\n",
      "Epoch 2/10\n",
      "38400000/38400000 [==============================] - 1253s 33us/step - loss: 0.0077 - val_loss: 0.0074\n",
      "\n",
      "Epoch 00002: val_loss improved from 0.00746 to 0.00741, saving model to ./checkpoint60M/Sparse-60M-weights.hdf5\n",
      "Epoch 3/10\n",
      "38400000/38400000 [==============================] - 1256s 33us/step - loss: 0.0075 - val_loss: 0.0073\n",
      "\n",
      "Epoch 00003: val_loss improved from 0.00741 to 0.00733, saving model to ./checkpoint60M/Sparse-60M-weights.hdf5\n",
      "Epoch 4/10\n",
      "38400000/38400000 [==============================] - 1254s 33us/step - loss: 0.0075 - val_loss: 0.0073\n",
      "\n",
      "Epoch 00004: val_loss improved from 0.00733 to 0.00733, saving model to ./checkpoint60M/Sparse-60M-weights.hdf5\n",
      "Epoch 5/10\n",
      "38400000/38400000 [==============================] - 1253s 33us/step - loss: 0.0074 - val_loss: 0.0074\n",
      "\n",
      "Epoch 00005: val_loss did not improve\n",
      "Epoch 6/10\n",
      "38400000/38400000 [==============================] - 1255s 33us/step - loss: 0.0074 - val_loss: 0.0073\n",
      "\n",
      "Epoch 00006: val_loss did not improve\n",
      "Epoch 00006: early stopping\n",
      "CPU times: user 1h 18min 45s, sys: 50min 44s, total: 2h 9min 30s\n",
      "Wall time: 2h 5min 45s\n"
     ]
    }
   ],
   "source": [
    "%%time\n",
    "history = model.fit(X_train, Y_train,  validation_split=0.2, batch_size=4096,  epochs=10, callbacks=callbacks_list, verbose=1)\n",
    "#history = model.fit(X_train, Y_train,  validation_split=0.2, batch_size=4096,  epochs=5, verbose=1)\n"
   ]
  },
  {
   "cell_type": "code",
   "execution_count": 35,
   "metadata": {
    "_cell_guid": "f661a7e2-1b50-48dc-8ead-0d30fee0dd1f",
    "_uuid": "368b8d9557dc801fc8f27ce9e38aa280fa83e91f"
   },
   "outputs": [],
   "source": [
    "#Save model and weight:\n",
    "# serialize model to JSON\n",
    "def save_model():\n",
    "    model_json = model.to_json()\n",
    "    with open(save_prefix+\"model.json\", \"w\") as json_file:\n",
    "        json_file.write(model_json)\n",
    "    # serialize weights \n",
    "    model.save_weights(save_prefix+\"model_weight.h5\")\n",
    "    print(\"Saved model to disk\")\n",
    "\n"
   ]
  },
  {
   "cell_type": "code",
   "execution_count": 36,
   "metadata": {
    "_cell_guid": "12d7bc03-bdaa-4406-b5d0-25f6f9d0ea53",
    "_uuid": "9d8b1593eb85ab3a8f90e673b99dec8075cdd39c"
   },
   "outputs": [
    {
     "name": "stdout",
     "output_type": "stream",
     "text": [
      "Saved model to disk\n"
     ]
    }
   ],
   "source": [
    "save_model()"
   ]
  },
  {
   "cell_type": "markdown",
   "metadata": {
    "_cell_guid": "8c48c02d-a09d-48bf-8613-39066d4622d6",
    "_uuid": "32d63575f589b82ba5eed7031fc829ffa789b744"
   },
   "source": [
    "# Predicting and Evaluating the model"
   ]
  },
  {
   "cell_type": "code",
   "execution_count": 57,
   "metadata": {
    "_cell_guid": "3b42e7f0-224c-4f21-b715-6579f6f95785",
    "_uuid": "c1c5704b8147804f9d0367d06bb4b91433d56d14",
    "collapsed": true
   },
   "outputs": [],
   "source": [
    "def load_model():\n",
    "    # Load json and create model:\n",
    "    json_file = open(save_prefix+'model.json', 'r')\n",
    "    loaded_model_json = json_file.read()\n",
    "    json_file.close()\n",
    "    loaded_model = model_from_json(loaded_model_json)\n",
    "    # load weights into new model\n",
    "    loaded_model.load_weights(save_prefix+\"model_weight.h5\")\n",
    "    print(\"Loaded model from disk\")\n",
    "\n",
    "    # evaluate loaded model on test data\n",
    "    loaded_model.compile(loss='binary_crossentropy', optimizer='adam')\n",
    "    #score = loaded_model.evaluate(X, Y, verbose=0)\n",
    "    #print(\"%s: %.2f%%\" % (loaded_model.metrics_names[1], score[1]*100))\n",
    "    return loaded_model"
   ]
  },
  {
   "cell_type": "code",
   "execution_count": 58,
   "metadata": {
    "_cell_guid": "4dd7112d-195a-42c0-8dc5-5e72ccaef9e5",
    "_uuid": "25c5ad68c73954353cd2181964723f0d4568639f",
    "collapsed": true
   },
   "outputs": [],
   "source": [
    "#model = load_model()"
   ]
  },
  {
   "cell_type": "code",
   "execution_count": 37,
   "metadata": {
    "_cell_guid": "420c4f05-5c19-4497-92de-04eaa0a09434",
    "_uuid": "7d99593f510d8e2bf04b5dce70050fea68103ed6"
   },
   "outputs": [],
   "source": [
    "# make a prediction\n",
    "Y_Predicted_Proba = model.predict_proba(X_test)\n"
   ]
  },
  {
   "cell_type": "code",
   "execution_count": 38,
   "metadata": {
    "_cell_guid": "ef05b2c1-eac7-4c44-9f53-cde19ae775ca",
    "_uuid": "e9651e21e3e51c9392771ce26aa26b8bfdc37ba5"
   },
   "outputs": [
    {
     "data": {
      "text/plain": [
       "0.9691403832916854"
      ]
     },
     "execution_count": 38,
     "metadata": {},
     "output_type": "execute_result"
    }
   ],
   "source": [
    "import numpy as np\n",
    "from sklearn.metrics import roc_auc_score\n",
    "y_true = Y_test\n",
    "y_scores = Y_Predicted_Proba\n",
    "roc_auc_score(y_true, y_scores)\n"
   ]
  },
  {
   "cell_type": "code",
   "execution_count": 39,
   "metadata": {
    "_cell_guid": "c2b7148d-e61e-4f0c-95eb-c66461ccc6ec",
    "_uuid": "0a1ae00cb2dee4905fd925cd4f1ebff951efe22c"
   },
   "outputs": [
    {
     "data": {
      "image/png": "[encoded data removed]",
      "text/plain": [
       "<Figure size 432x288 with 1 Axes>"
      ]
     },
     "metadata": {},
     "output_type": "display_data"
    }
   ],
   "source": [
    "# summarize history for loss\n",
    "plt.figure()\n",
    "plt.plot(history.history['loss'])\n",
    "plt.plot(history.history['val_loss'])\n",
    "plt.title('model loss')\n",
    "plt.ylabel('loss')\n",
    "plt.xlabel('epoch')\n",
    "plt.legend(['train', 'test'], loc='upper right')\n",
    "plt.show()"
   ]
  },
  {
   "cell_type": "code",
   "execution_count": 40,
   "metadata": {
    "_cell_guid": "3f307bcd-13c4-4601-9b84-1ea4b567806f",
    "_uuid": "44d6903c200f5998179fe2d741c411b80c042c79"
   },
   "outputs": [],
   "source": [
    "#Predict on test set\n",
    "predictions_NN_prob = model.predict(X_test)\n",
    "predictions_NN_prob = predictions_NN_prob[:,0]\n",
    "\n",
    "predictions_NN_01 = np.where(predictions_NN_prob > 0.5, 1, 0) #Turn probability to 0-1 binary output"
   ]
  },
  {
   "cell_type": "code",
   "execution_count": 41,
   "metadata": {
    "_cell_guid": "a6a5c394-c3c9-4774-986c-6bc0b4e5a507",
    "_uuid": "c0c01ac18ed7811341a34a348f7716209d334532"
   },
   "outputs": [
    {
     "name": "stdout",
     "output_type": "stream",
     "text": [
      "Overall accuracy of Neural Network model: 0.9980526666666667\n"
     ]
    }
   ],
   "source": [
    "#Print accuracy\n",
    "from sklearn.metrics import confusion_matrix,accuracy_score, roc_curve, auc\n",
    "\n",
    "acc_NN = accuracy_score(Y_test, predictions_NN_01)\n",
    "print('Overall accuracy of Neural Network model:', acc_NN)"
   ]
  },
  {
   "cell_type": "code",
   "execution_count": 42,
   "metadata": {
    "_cell_guid": "9dd3475f-58c1-4d00-a27d-232bff5cb20c",
    "_uuid": "febb8b3f74c2ff60567e3391d5b76ebd99f8f2ec"
   },
   "outputs": [
    {
     "data": {
      "image/png": "[encoded data removed]",
      "text/plain": [
       "<Figure size 432x288 with 1 Axes>"
      ]
     },
     "metadata": {},
     "output_type": "display_data"
    }
   ],
   "source": [
    "#Print Area Under Curve\n",
    "false_positive_rate, recall, thresholds = roc_curve(Y_test, predictions_NN_prob)\n",
    "roc_auc = auc(false_positive_rate, recall)\n",
    "plt.figure()\n",
    "plt.title('Receiver Operating Characteristic (ROC)')\n",
    "plt.plot(false_positive_rate, recall, 'b', label = 'AUC = %0.3f' %roc_auc)\n",
    "plt.legend(loc='lower right')\n",
    "plt.plot([0,1], [0,1], 'r--')\n",
    "plt.xlim([0.0,1.0])\n",
    "plt.ylim([0.0,1.0])\n",
    "plt.ylabel('Recall')\n",
    "plt.xlabel('Fall-out (1-Specificity)')\n",
    "plt.show()"
   ]
  },
  {
   "cell_type": "markdown",
   "metadata": {
    "_cell_guid": "dc077b05-3474-49a2-9ae8-52576cf569ca",
    "_uuid": "71b4bf22183822cee327dea9cb1540a4b044ea6e"
   },
   "source": [
    "# Predicting on test.csv and submitting"
   ]
  },
  {
   "cell_type": "code",
   "execution_count": 43,
   "metadata": {
    "_cell_guid": "35b1f94e-1f3a-4824-b22f-737441c69df8",
    "_uuid": "0a40f28e5b70c26e00967e382541d8da89b0d3ce"
   },
   "outputs": [
    {
     "data": {
      "text/plain": [
       "(18790469, 4379)"
      ]
     },
     "execution_count": 43,
     "metadata": {},
     "output_type": "execute_result"
    }
   ],
   "source": [
    "#The test data to be predicted and submitted has been previously processed\n",
    "#with the training data.  The rows are rows placed after train_len\n",
    "     \n",
    "test_submit = X[train_len:]  \n",
    "test_submit.shape\n"
   ]
  },
  {
   "cell_type": "code",
   "execution_count": 44,
   "metadata": {
    "_cell_guid": "847b4afe-f96f-491f-b010-e44cb08b11cf",
    "_uuid": "b185d3e334e668a3064f9cad394678edbb75e982"
   },
   "outputs": [
    {
     "data": {
      "text/plain": [
       "scipy.sparse.csr.csr_matrix"
      ]
     },
     "execution_count": 44,
     "metadata": {},
     "output_type": "execute_result"
    }
   ],
   "source": [
    "type(test_submit)"
   ]
  },
  {
   "cell_type": "code",
   "execution_count": 45,
   "metadata": {
    "_cell_guid": "110c6efa-5124-4d77-b4cb-77388f7a2fb0",
    "_uuid": "7e3ab6175f6f1dd91fddcd3ef21495805c16d031"
   },
   "outputs": [
    {
     "name": "stdout",
     "output_type": "stream",
     "text": [
      "CPU times: user 15min 41s, sys: 4min 12s, total: 19min 54s\n",
      "Wall time: 15min 4s\n"
     ]
    }
   ],
   "source": [
    "%%time\n",
    "result= model.predict_proba(test_submit)\n"
   ]
  },
  {
   "cell_type": "code",
   "execution_count": 46,
   "metadata": {
    "_cell_guid": "69e3c573-ae90-48eb-8e68-f53b990fc371",
    "_uuid": "ab552a19f8fcd4baa22f32ef00e48848dd1b00f8"
   },
   "outputs": [
    {
     "data": {
      "text/plain": [
       "(18790469, 1)"
      ]
     },
     "execution_count": 46,
     "metadata": {},
     "output_type": "execute_result"
    }
   ],
   "source": [
    "result.shape"
   ]
  },
  {
   "cell_type": "code",
   "execution_count": 47,
   "metadata": {
    "_cell_guid": "48a57563-89e1-42cf-89d2-d8c91787f7e2",
    "_uuid": "ca2cd2e57c9269dfef342fa9b38c85d8c0a0698c"
   },
   "outputs": [
    {
     "data": {
      "text/plain": [
       "(18790469, 1)"
      ]
     },
     "execution_count": 47,
     "metadata": {},
     "output_type": "execute_result"
    }
   ],
   "source": [
    "write_df=test_data[['click_id']]\n",
    "write_df.shape\n"
   ]
  },
  {
   "cell_type": "code",
   "execution_count": 48,
   "metadata": {
    "_cell_guid": "2a788a0d-4c92-4e20-888e-052bcf75707a",
    "_uuid": "604037d1515a0e4834d0c34a06d18c47d0765f56"
   },
   "outputs": [
    {
     "name": "stderr",
     "output_type": "stream",
     "text": [
      "/home/ubuntu/anaconda3/envs/tensorflow_p36/lib/python3.6/site-packages/ipykernel/__main__.py:1: SettingWithCopyWarning: \n",
      "A value is trying to be set on a copy of a slice from a DataFrame.\n",
      "Try using .loc[row_indexer,col_indexer] = value instead\n",
      "\n",
      "See the caveats in the documentation: http://pandas.pydata.org/pandas-docs/stable/indexing.html#indexing-view-versus-copy\n",
      "  if __name__ == '__main__':\n"
     ]
    }
   ],
   "source": [
    "write_df['is_attributed_prob']=result"
   ]
  },
  {
   "cell_type": "code",
   "execution_count": 49,
   "metadata": {
    "_cell_guid": "6a789e83-7182-4c97-9313-7983a58e0c9e",
    "_uuid": "6da278774f95076606304aa0110e7944c0cbb8e8"
   },
   "outputs": [],
   "source": [
    "#del test_df; gc.collect()\n",
    "\n",
    "write_df.to_csv('test_submit60M.csv', index=False)\n",
    "\n"
   ]
  },
  {
   "cell_type": "code",
   "execution_count": 50,
   "metadata": {
    "_cell_guid": "d9da92f4-9e93-4b1c-8611-f74813a43dea",
    "_uuid": "e7cb66be51ea978d9a4099e21c66164c4ce432c6"
   },
   "outputs": [
    {
     "data": {
      "text/html": [
       "<div>\n",
       "<style scoped>\n",
       "    .dataframe tbody tr th:only-of-type {\n",
       "        vertical-align: middle;\n",
       "    }\n",
       "\n",
       "    .dataframe tbody tr th {\n",
       "        vertical-align: top;\n",
       "    }\n",
       "\n",
       "    .dataframe thead th {\n",
       "        text-align: right;\n",
       "    }\n",
       "</style>\n",
       "<table border=\"1\" class=\"dataframe\">\n",
       "  <thead>\n",
       "    <tr style=\"text-align: right;\">\n",
       "      <th></th>\n",
       "      <th>click_id</th>\n",
       "      <th>is_attributed_prob</th>\n",
       "    </tr>\n",
       "  </thead>\n",
       "  <tbody>\n",
       "    <tr>\n",
       "      <th>0</th>\n",
       "      <td>0</td>\n",
       "      <td>0.000034</td>\n",
       "    </tr>\n",
       "    <tr>\n",
       "      <th>1</th>\n",
       "      <td>1</td>\n",
       "      <td>0.000035</td>\n",
       "    </tr>\n",
       "    <tr>\n",
       "      <th>2</th>\n",
       "      <td>2</td>\n",
       "      <td>0.000003</td>\n",
       "    </tr>\n",
       "    <tr>\n",
       "      <th>3</th>\n",
       "      <td>3</td>\n",
       "      <td>0.000005</td>\n",
       "    </tr>\n",
       "    <tr>\n",
       "      <th>4</th>\n",
       "      <td>4</td>\n",
       "      <td>0.000002</td>\n",
       "    </tr>\n",
       "  </tbody>\n",
       "</table>\n",
       "</div>"
      ],
      "text/plain": [
       "   click_id  is_attributed_prob\n",
       "0         0            0.000034\n",
       "1         1            0.000035\n",
       "2         2            0.000003\n",
       "3         3            0.000005\n",
       "4         4            0.000002"
      ]
     },
     "execution_count": 50,
     "metadata": {},
     "output_type": "execute_result"
    }
   ],
   "source": [
    "write_df.head()"
   ]
  },
  {
   "cell_type": "code",
   "execution_count": 51,
   "metadata": {
    "_cell_guid": "1246663f-dfa2-48ee-b34b-078f438d1c91",
    "_uuid": "160d9d59e317f4aec6ee9a20d2dd4b574d15095f"
   },
   "outputs": [
    {
     "data": {
      "text/plain": [
       "(18790469, 2)"
      ]
     },
     "execution_count": 51,
     "metadata": {},
     "output_type": "execute_result"
    }
   ],
   "source": [
    "write_df.shape"
   ]
  },
  {
   "cell_type": "code",
   "execution_count": 52,
   "metadata": {
    "_uuid": "8227f58533953689515c829ec096df22201b0761"
   },
   "outputs": [
    {
     "name": "stdout",
     "output_type": "stream",
     "text": [
      "total 9881684\r\n",
      "drwxrwxr-x  5 ubuntu ubuntu       4096 May 10 19:54 \u001b[0m\u001b[01;34m.\u001b[0m/\r\n",
      "drwxr-xr-x 17 ubuntu ubuntu       4096 May 10 17:05 \u001b[01;34m..\u001b[0m/\r\n",
      "drwxrwxr-x  2 ubuntu ubuntu       4096 May 10 17:26 \u001b[01;34mcheckpoint60M\u001b[0m/\r\n",
      "drwxrwxr-x  2 ubuntu ubuntu       4096 May 10 16:48 \u001b[01;34m.ipynb_checkpoints\u001b[0m/\r\n",
      "-rw-rw-r--  1 ubuntu ubuntu      90033 May 10 19:54 Kaggle+-+Neural+Net+with+Sparse+Matrix.ipynb\r\n",
      "drwxrwxr-x  3 ubuntu ubuntu       4096 May 10 16:46 \u001b[01;34mmnt\u001b[0m/\r\n",
      "-rw-rw-r--  1 ubuntu ubuntu       2669 May 10 19:11 Sparse-60M-model.json\r\n",
      "-rw-rw-r--  1 ubuntu ubuntu    2304280 May 10 19:11 Sparse-60M-model_weight.h5\r\n",
      "-rw-rw-r--  1 ubuntu ubuntu  863271911 May  3 00:11 test.csv\r\n",
      "-rw-rw-r--  1 ubuntu ubuntu  412807496 May 10 19:55 test_submit60M.csv\r\n",
      "-rw-rw-r--  1 ubuntu ubuntu 7537649302 Feb 16 04:02 train.csv\r\n",
      "-rw-rw-r--  1 ubuntu ubuntu 1298591310 May 10 16:44 \u001b[01;31mtraincsv.zip\u001b[0m\r\n",
      "-rw-rw-r--  1 ubuntu ubuntu    4076438 May  3 00:11 train_sample.csv\r\n"
     ]
    }
   ],
   "source": [
    "ls -al"
   ]
  },
  {
   "cell_type": "code",
   "execution_count": null,
   "metadata": {},
   "outputs": [],
   "source": []
  }
 ],
 "metadata": {
  "kernelspec": {
   "display_name": "Python 3",
   "language": "python",
   "name": "python3"
  },
  "language_info": {
   "codemirror_mode": {
    "name": "ipython",
    "version": 3
   },
   "file_extension": ".py",
   "mimetype": "text/x-python",
   "name": "python",
   "nbconvert_exporter": "python",
   "pygments_lexer": "ipython3",
   "version": "3.5.2"
  }
 },
 "nbformat": 4,
 "nbformat_minor": 1
}
